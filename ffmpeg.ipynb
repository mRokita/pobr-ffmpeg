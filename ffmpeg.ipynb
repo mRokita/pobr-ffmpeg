{
 "cells": [
  {
   "cell_type": "code",
   "execution_count": 1,
   "metadata": {
    "pycharm": {
     "is_executing": true
    }
   },
   "outputs": [
    {
     "name": "stdout",
     "output_type": "stream",
     "text": [
      "/home/mrokita/pobr-ffmpeg/assets\n"
     ]
    }
   ],
   "source": [
    "%cd assets"
   ]
  },
  {
   "cell_type": "markdown",
   "metadata": {},
   "source": [
    "# FFprobe"
   ]
  },
  {
   "cell_type": "code",
   "execution_count": 2,
   "metadata": {
    "pycharm": {
     "name": "#%%\n"
    },
    "scrolled": true
   },
   "outputs": [
    {
     "name": "stdout",
     "output_type": "stream",
     "text": [
      "Input #0, mov,mp4,m4a,3gp,3g2,mj2, from 'video2.mp4':\r\n",
      "  Metadata:\r\n",
      "    major_brand     : isom\r\n",
      "    minor_version   : 512\r\n",
      "    compatible_brands: isomiso2avc1mp41\r\n",
      "    encoder         : Lavf58.76.100\r\n",
      "  Duration: 00:00:07.92, start: 0.000000, bitrate: 2839 kb/s\r\n",
      "  Stream #0:0(jpn): Video: h264 (High 10) (avc1 / 0x31637661), yuv420p10le(tv, bt709), 1920x1080 [SAR 1:1 DAR 16:9], 2513 kb/s, 23.98 fps, 23.98 tbr, 24k tbn, 47.95 tbc (default)\r\n",
      "    Metadata:\r\n",
      "      handler_name    : Video\r\n",
      "      vendor_id       : [0][0][0][0]\r\n",
      "  Stream #0:1(jpn): Audio: aac (LC) (mp4a / 0x6134706D), 48000 Hz, 5.1, fltp, 342 kb/s (default)\r\n",
      "    Metadata:\r\n",
      "      handler_name    : Audio\r\n",
      "      vendor_id       : [0][0][0][0]\r\n"
     ]
    }
   ],
   "source": [
    "!ffprobe -hide_banner video2.mp4"
   ]
  },
  {
   "cell_type": "markdown",
   "metadata": {},
   "source": [
    "<video controls src=\"assets/video2.mp4\" width=500px />"
   ]
  },
  {
   "cell_type": "markdown",
   "metadata": {},
   "source": [
    "# FFMpeg - wykrywanie krawędzi"
   ]
  },
  {
   "cell_type": "code",
   "execution_count": 4,
   "metadata": {},
   "outputs": [
    {
     "name": "stdout",
     "output_type": "stream",
     "text": [
      "Input #0, mov,mp4,m4a,3gp,3g2,mj2, from 'video2.mp4':\n",
      "  Metadata:\n",
      "    major_brand     : isom\n",
      "    minor_version   : 512\n",
      "    compatible_brands: isomiso2avc1mp41\n",
      "    encoder         : Lavf58.76.100\n",
      "  Duration: 00:00:07.92, start: 0.000000, bitrate: 2839 kb/s\n",
      "  Stream #0:0(jpn): Video: h264 (High 10) (avc1 / 0x31637661), yuv420p10le(tv, bt709), 1920x1080 [SAR 1:1 DAR 16:9], 2513 kb/s, 23.98 fps, 23.98 tbr, 24k tbn, 47.95 tbc (default)\n",
      "    Metadata:\n",
      "      handler_name    : Video\n",
      "      vendor_id       : [0][0][0][0]\n",
      "  Stream #0:1(jpn): Audio: aac (LC) (mp4a / 0x6134706D), 48000 Hz, 5.1, fltp, 342 kb/s (default)\n",
      "    Metadata:\n",
      "      handler_name    : Audio\n",
      "      vendor_id       : [0][0][0][0]\n",
      "Stream mapping:\n",
      "  Stream #0:0 -> #0:0 (h264 (native) -> h264 (libx264))\n",
      "  Stream #0:1 -> #0:1 (aac (native) -> aac (native))\n",
      "Press [q] to stop, [?] for help\n",
      "\u001B[1;36m[libx264 @ 0x55a8cedf28c0] \u001B[0musing SAR=1/1\n",
      "\u001B[1;36m[libx264 @ 0x55a8cedf28c0] \u001B[0musing cpu capabilities: MMX2 SSE2Fast SSSE3 SSE4.2 AVX FMA3 BMI2 AVX2\n",
      "\u001B[1;36m[libx264 @ 0x55a8cedf28c0] \u001B[0mprofile High, level 4.0, 4:0:0, 8-bit\n",
      "\u001B[1;36m[libx264 @ 0x55a8cedf28c0] \u001B[0m264 - core 163 r3060 5db6aa6 - H.264/MPEG-4 AVC codec - Copyleft 2003-2021 - http://www.videolan.org/x264.html - options: cabac=1 ref=3 deblock=1:0:0 analyse=0x3:0x113 me=hex subme=7 psy=1 psy_rd=1.00:0.00 mixed_ref=1 me_range=16 chroma_me=0 trellis=1 8x8dct=1 cqm=0 deadzone=21,11 fast_pskip=1 chroma_qp_offset=-2 threads=12 lookahead_threads=2 sliced_threads=0 nr=0 decimate=1 interlaced=0 bluray_compat=0 constrained_intra=0 bframes=3 b_pyramid=2 b_adapt=1 b_bias=0 direct=1 weightb=1 open_gop=0 weightp=2 keyint=250 keyint_min=23 scenecut=40 intra_refresh=0 rc_lookahead=40 rc=crf mbtree=1 crf=23.0 qcomp=0.60 qpmin=0 qpmax=69 qpstep=4 ip_ratio=1.40 aq=1:1.00\n",
      "Output #0, mp4, to 'outputs/canny_edge.mp4':\n",
      "  Metadata:\n",
      "    major_brand     : isom\n",
      "    minor_version   : 512\n",
      "    compatible_brands: isomiso2avc1mp41\n",
      "    encoder         : Lavf58.76.100\n",
      "  Stream #0:0(jpn): Video: h264 (avc1 / 0x31637661), gray(pc, bt709, progressive), 1920x1080 [SAR 1:1 DAR 16:9], q=2-31, 23.98 fps, 24k tbn (default)\n",
      "    Metadata:\n",
      "      handler_name    : Video\n",
      "      vendor_id       : [0][0][0][0]\n",
      "      encoder         : Lavc58.134.100 libx264\n",
      "    Side data:\n",
      "      cpb: bitrate max/min/avg: 0/0/0 buffer size: 0 vbv_delay: N/A\n",
      "  Stream #0:1(jpn): Audio: aac (LC) (mp4a / 0x6134706D), 48000 Hz, 5.1, fltp, 341 kb/s (default)\n",
      "    Metadata:\n",
      "      handler_name    : Audio\n",
      "      vendor_id       : [0][0][0][0]\n",
      "      encoder         : Lavc58.134.100 aac\n",
      "frame=  188 fps= 24 q=-1.0 Lsize=    1497kB time=00:00:07.89 bitrate=1553.6kbits/s speed=0.993x    \n",
      "video:1160kB audio:330kB subtitle:0kB other streams:0kB global headers:0kB muxing overhead: 0.447299%\n",
      "\u001B[1;36m[libx264 @ 0x55a8cedf28c0] \u001B[0mframe I:5     Avg QP:23.54  size:  9603\n",
      "\u001B[1;36m[libx264 @ 0x55a8cedf28c0] \u001B[0mframe P:58    Avg QP:21.73  size:  7721\n",
      "\u001B[1;36m[libx264 @ 0x55a8cedf28c0] \u001B[0mframe B:125   Avg QP:31.22  size:  5530\n",
      "\u001B[1;36m[libx264 @ 0x55a8cedf28c0] \u001B[0mconsecutive B-frames:  8.0%  7.4%  8.0% 76.6%\n",
      "\u001B[1;36m[libx264 @ 0x55a8cedf28c0] \u001B[0mmb I  I16..4:  6.6% 89.6%  3.8%\n",
      "\u001B[1;36m[libx264 @ 0x55a8cedf28c0] \u001B[0mmb P  I16..4:  1.4%  1.5%  1.1%  P16..4:  2.8%  1.7%  0.5%  0.0%  0.0%    skip:91.0%\n",
      "\u001B[1;36m[libx264 @ 0x55a8cedf28c0] \u001B[0mmb B  I16..4:  0.1%  0.3%  0.3%  B16..8:  6.7%  2.2%  0.5%  direct: 0.2%  skip:89.7%  L0:53.2% L1:44.4% BI: 2.5%\n",
      "\u001B[1;36m[libx264 @ 0x55a8cedf28c0] \u001B[0m8x8 transform intra:70.2% inter:3.0%\n",
      "\u001B[1;36m[libx264 @ 0x55a8cedf28c0] \u001B[0mcoded y intra: 7.4% inter: 1.2%\n",
      "\u001B[1;36m[libx264 @ 0x55a8cedf28c0] \u001B[0mi16 v,h,dc,p: 81% 15%  3%  0%\n",
      "\u001B[1;36m[libx264 @ 0x55a8cedf28c0] \u001B[0mi8 v,h,dc,ddl,ddr,vr,hd,vl,hu: 61% 10% 29%  0%  0%  0%  0%  0%  0%\n",
      "\u001B[1;36m[libx264 @ 0x55a8cedf28c0] \u001B[0mi4 v,h,dc,ddl,ddr,vr,hd,vl,hu: 31% 16% 40%  2%  2%  2%  2%  2%  2%\n",
      "\u001B[1;36m[libx264 @ 0x55a8cedf28c0] \u001B[0mi8c dc,h,v,p: 100%  0%  0%  0%\n",
      "\u001B[1;36m[libx264 @ 0x55a8cedf28c0] \u001B[0mWeighted P-Frames: Y:5.2%\n",
      "\u001B[1;36m[libx264 @ 0x55a8cedf28c0] \u001B[0mref P L0: 31.4% 31.5% 23.0% 14.0%  0.1%\n",
      "\u001B[1;36m[libx264 @ 0x55a8cedf28c0] \u001B[0mref B L0: 73.1% 20.8%  6.1%\n",
      "\u001B[1;36m[libx264 @ 0x55a8cedf28c0] \u001B[0mref B L1: 89.3% 10.7%\n",
      "\u001B[1;36m[libx264 @ 0x55a8cedf28c0] \u001B[0mkb/s:1211.09\n",
      "\u001B[1;36m[aac @ 0x55a8cee7ae00] \u001B[0mQavg: 167.227\n"
     ]
    }
   ],
   "source": [
    "!ffmpeg -hide_banner -i video2.mp4 -vf edgedetect=low=0.1:high=0.5 -y outputs/canny_edge.mp4"
   ]
  },
  {
   "cell_type": "markdown",
   "metadata": {},
   "source": [
    "<video controls src=\"assets/outputs/canny_edge.mp4\" width=500px />"
   ]
  },
  {
   "cell_type": "code",
   "execution_count": 5,
   "metadata": {},
   "outputs": [
    {
     "name": "stdout",
     "output_type": "stream",
     "text": [
      "Input #0, mov,mp4,m4a,3gp,3g2,mj2, from 'video2.mp4':\n",
      "  Metadata:\n",
      "    major_brand     : isom\n",
      "    minor_version   : 512\n",
      "    compatible_brands: isomiso2avc1mp41\n",
      "    encoder         : Lavf58.76.100\n",
      "  Duration: 00:00:07.92, start: 0.000000, bitrate: 2839 kb/s\n",
      "  Stream #0:0(jpn): Video: h264 (High 10) (avc1 / 0x31637661), yuv420p10le(tv, bt709), 1920x1080 [SAR 1:1 DAR 16:9], 2513 kb/s, 23.98 fps, 23.98 tbr, 24k tbn, 47.95 tbc (default)\n",
      "    Metadata:\n",
      "      handler_name    : Video\n",
      "      vendor_id       : [0][0][0][0]\n",
      "  Stream #0:1(jpn): Audio: aac (LC) (mp4a / 0x6134706D), 48000 Hz, 5.1, fltp, 342 kb/s (default)\n",
      "    Metadata:\n",
      "      handler_name    : Audio\n",
      "      vendor_id       : [0][0][0][0]\n",
      "Stream mapping:\n",
      "  Stream #0:0 (h264) -> format (graph 0)\n",
      "  Stream #0:0 (h264) -> edgedetect (graph 0)\n",
      "  Stream #0:0 (h264) -> overlay:main (graph 0)\n",
      "  overlay (graph 0) -> Stream #0:0 (libx264)\n",
      "  Stream #0:1 -> #0:1 (aac (native) -> aac (native))\n",
      "Press [q] to stop, [?] for help\n",
      "\u001B[1;36m[libx264 @ 0x55699e640cc0] \u001B[0musing SAR=1/1\n",
      "\u001B[1;36m[libx264 @ 0x55699e640cc0] \u001B[0musing cpu capabilities: MMX2 SSE2Fast SSSE3 SSE4.2 AVX FMA3 BMI2 AVX2\n",
      "\u001B[1;36m[libx264 @ 0x55699e640cc0] \u001B[0mprofile High, level 4.0, 4:2:0, 8-bit\n",
      "\u001B[1;36m[libx264 @ 0x55699e640cc0] \u001B[0m264 - core 163 r3060 5db6aa6 - H.264/MPEG-4 AVC codec - Copyleft 2003-2021 - http://www.videolan.org/x264.html - options: cabac=1 ref=3 deblock=1:0:0 analyse=0x3:0x113 me=hex subme=7 psy=1 psy_rd=1.00:0.00 mixed_ref=1 me_range=16 chroma_me=1 trellis=1 8x8dct=1 cqm=0 deadzone=21,11 fast_pskip=1 chroma_qp_offset=-2 threads=12 lookahead_threads=2 sliced_threads=0 nr=0 decimate=1 interlaced=0 bluray_compat=0 constrained_intra=0 bframes=3 b_pyramid=2 b_adapt=1 b_bias=0 direct=1 weightb=1 open_gop=0 weightp=2 keyint=250 keyint_min=23 scenecut=40 intra_refresh=0 rc_lookahead=40 rc=crf mbtree=1 crf=23.0 qcomp=0.60 qpmin=0 qpmax=69 qpstep=4 ip_ratio=1.40 aq=1:1.00\n",
      "Output #0, mp4, to 'outputs/histogram.mp4':\n",
      "  Metadata:\n",
      "    major_brand     : isom\n",
      "    minor_version   : 512\n",
      "    compatible_brands: isomiso2avc1mp41\n",
      "    encoder         : Lavf58.76.100\n",
      "  Stream #0:0: Video: h264 (avc1 / 0x31637661), yuv420p(tv, bt709, progressive), 1920x1080 [SAR 1:1 DAR 16:9], q=2-31, 23.98 fps, 24k tbn (default)\n",
      "    Metadata:\n",
      "      encoder         : Lavc58.134.100 libx264\n",
      "    Side data:\n",
      "      cpb: bitrate max/min/avg: 0/0/0 buffer size: 0 vbv_delay: N/A\n",
      "  Stream #0:1(jpn): Audio: aac (LC) (mp4a / 0x6134706D), 48000 Hz, 5.1, fltp, 341 kb/s (default)\n",
      "    Metadata:\n",
      "      handler_name    : Audio\n",
      "      vendor_id       : [0][0][0][0]\n",
      "      encoder         : Lavc58.134.100 aac\n",
      "frame=  188 fps= 15 q=-1.0 Lsize=    2624kB time=00:00:07.89 bitrate=2723.5kbits/s speed=0.637x    \n",
      "video:2287kB audio:330kB subtitle:0kB other streams:0kB global headers:0kB muxing overhead: 0.256425%\n",
      "\u001B[1;36m[libx264 @ 0x55699e640cc0] \u001B[0mframe I:3     Avg QP:20.71  size: 54592\n",
      "\u001B[1;36m[libx264 @ 0x55699e640cc0] \u001B[0mframe P:53    Avg QP:21.91  size: 23037\n",
      "\u001B[1;36m[libx264 @ 0x55699e640cc0] \u001B[0mframe B:132   Avg QP:24.62  size:  7247\n",
      "\u001B[1;36m[libx264 @ 0x55699e640cc0] \u001B[0mconsecutive B-frames:  4.8%  4.3%  1.6% 89.4%\n",
      "\u001B[1;36m[libx264 @ 0x55699e640cc0] \u001B[0mmb I  I16..4: 20.3% 71.5%  8.2%\n",
      "\u001B[1;36m[libx264 @ 0x55699e640cc0] \u001B[0mmb P  I16..4:  4.8% 12.0%  0.8%  P16..4: 31.0%  6.3%  3.3%  0.0%  0.0%    skip:41.8%\n",
      "\u001B[1;36m[libx264 @ 0x55699e640cc0] \u001B[0mmb B  I16..4:  0.9%  2.2%  0.1%  B16..8: 27.2%  2.3%  0.3%  direct: 1.3%  skip:65.7%  L0:42.3% L1:55.7% BI: 2.0%\n",
      "\u001B[1;36m[libx264 @ 0x55699e640cc0] \u001B[0m8x8 transform intra:68.9% inter:85.4%\n",
      "\u001B[1;36m[libx264 @ 0x55699e640cc0] \u001B[0mcoded y,uvDC,uvAC intra: 39.3% 47.8% 13.5% inter: 5.9% 8.2% 0.7%\n",
      "\u001B[1;36m[libx264 @ 0x55699e640cc0] \u001B[0mi16 v,h,dc,p: 23% 39%  4% 34%\n",
      "\u001B[1;36m[libx264 @ 0x55699e640cc0] \u001B[0mi8 v,h,dc,ddl,ddr,vr,hd,vl,hu: 19% 27% 21%  4%  5%  4%  9%  4%  6%\n",
      "\u001B[1;36m[libx264 @ 0x55699e640cc0] \u001B[0mi4 v,h,dc,ddl,ddr,vr,hd,vl,hu: 29% 27% 18%  3%  5%  5%  6%  3%  3%\n",
      "\u001B[1;36m[libx264 @ 0x55699e640cc0] \u001B[0mi8c dc,h,v,p: 56% 24% 12%  8%\n",
      "\u001B[1;36m[libx264 @ 0x55699e640cc0] \u001B[0mWeighted P-Frames: Y:0.0% UV:0.0%\n",
      "\u001B[1;36m[libx264 @ 0x55699e640cc0] \u001B[0mref P L0: 61.1% 10.8% 18.9%  9.3%\n",
      "\u001B[1;36m[libx264 @ 0x55699e640cc0] \u001B[0mref B L0: 81.7% 13.7%  4.7%\n",
      "\u001B[1;36m[libx264 @ 0x55699e640cc0] \u001B[0mref B L1: 95.0%  5.0%\n",
      "\u001B[1;36m[libx264 @ 0x55699e640cc0] \u001B[0mkb/s:2388.74\n",
      "\u001B[1;36m[aac @ 0x55699e642840] \u001B[0mQavg: 167.227\n"
     ]
    }
   ],
   "source": [
    "!ffmpeg -hide_banner -i video2.mp4 \\\n",
    "      -filter_complex \"[0]format=gbrp,histogram=display_mode=stack[1];\\\n",
    "      [1]scale=iw*2:ih[hist];\\\n",
    "      [0]edgedetect,scale=iw/4:ih/4[edges];\\\n",
    "      [0][hist]overlay[hist_over];\\\n",
    "      [hist_over][edges]overlay=x=1000:y=0\" \\\n",
    "      -y outputs/histogram.mp4"
   ]
  },
  {
   "cell_type": "markdown",
   "metadata": {},
   "source": [
    "<video controls src=\"assets/outputs/histogram.mp4\" width=500px />"
   ]
  },
  {
   "cell_type": "markdown",
   "metadata": {},
   "source": [
    "## ffmpeg-python\n",
    "\n",
    "(https://github.com/kkroening/ffmpeg-python)"
   ]
  },
  {
   "cell_type": "code",
   "execution_count": 12,
   "metadata": {},
   "outputs": [
    {
     "name": "stdout",
     "output_type": "stream",
     "text": [
      "ffmpeg -i video2.mp4 -filter_complex [0]format=gbrp[s0];[s0]histogram=display_mode=stack[s1];[s1]scale=iw*2:ih[s2];[0][s2]overlay=eof_action=repeat[s3];[0]edgedetect[s4];[s4]scale=iw/4:ih/4[s5];[s3][s5]overlay=eof_action=repeat:x=1000:y=0[s6] -map [s6] outputs/histogram_python.mp4\n"
     ]
    },
    {
     "name": "stderr",
     "output_type": "stream",
     "text": [
      "ffmpeg version 4.4.1 Copyright (c) 2000-2021 the FFmpeg developers\n",
      "  built with gcc 11 (GCC)\n",
      "  configuration: --prefix=/usr --bindir=/usr/bin --datadir=/usr/share/ffmpeg --docdir=/usr/share/doc/ffmpeg --incdir=/usr/include/ffmpeg --libdir=/usr/lib64 --mandir=/usr/share/man --arch=x86_64 --optflags='-O2 -flto=auto -ffat-lto-objects -fexceptions -g -grecord-gcc-switches -pipe -Wall -Werror=format-security -Wp,-D_FORTIFY_SOURCE=2 -Wp,-D_GLIBCXX_ASSERTIONS -specs=/usr/lib/rpm/redhat/redhat-hardened-cc1 -fstack-protector-strong -specs=/usr/lib/rpm/redhat/redhat-annobin-cc1 -m64 -mtune=generic -fasynchronous-unwind-tables -fstack-clash-protection -fcf-protection' --extra-ldflags='-Wl,-z,relro -Wl,--as-needed -Wl,-z,now -specs=/usr/lib/rpm/redhat/redhat-hardened-ld -specs=/usr/lib/rpm/redhat/redhat-annobin-cc1 ' --extra-cflags=' -I/usr/include/rav1e' --enable-libopencore-amrnb --enable-libopencore-amrwb --enable-libvo-amrwbenc --enable-version3 --enable-bzlib --enable-chromaprint --disable-crystalhd --enable-fontconfig --enable-frei0r --enable-gcrypt --enable-gnutls --enable-ladspa --enable-libaom --enable-libdav1d --enable-libass --enable-libbluray --enable-libbs2b --enable-libcdio --enable-libdrm --enable-libjack --enable-libfreetype --enable-libfribidi --enable-libgsm --enable-libilbc --enable-libmp3lame --enable-libmysofa --enable-nvenc --enable-openal --enable-opencl --enable-opengl --enable-libopenjpeg --enable-libopenmpt --enable-libopus --enable-libpulse --enable-librsvg --enable-librav1e --enable-librtmp --enable-librubberband --enable-libsmbclient --enable-version3 --enable-libsnappy --enable-libsoxr --enable-libspeex --enable-libsrt --enable-libssh --enable-libsvtav1 --enable-libtesseract --enable-libtheora --enable-libtwolame --enable-libvorbis --enable-libv4l2 --enable-libvidstab --enable-libvmaf --enable-version3 --enable-vapoursynth --enable-libvpx --enable-vulkan --enable-libglslang --enable-libwebp --enable-libx264 --enable-libx265 --enable-libxvid --enable-libxml2 --enable-libzimg --enable-libzmq --enable-libzvbi --enable-lv2 --enable-avfilter --enable-avresample --enable-libmodplug --enable-postproc --enable-pthreads --disable-static --enable-shared --enable-gpl --disable-debug --disable-stripping --shlibdir=/usr/lib64 --enable-lto --enable-libmfx --enable-runtime-cpudetect\n",
      "  libavutil      56. 70.100 / 56. 70.100\n",
      "  libavcodec     58.134.100 / 58.134.100\n",
      "  libavformat    58. 76.100 / 58. 76.100\n",
      "  libavdevice    58. 13.100 / 58. 13.100\n",
      "  libavfilter     7.110.100 /  7.110.100\n",
      "  libavresample   4.  0.  0 /  4.  0.  0\n",
      "  libswscale      5.  9.100 /  5.  9.100\n",
      "  libswresample   3.  9.100 /  3.  9.100\n",
      "  libpostproc    55.  9.100 / 55.  9.100\n",
      "Input #0, mov,mp4,m4a,3gp,3g2,mj2, from 'video2.mp4':\n",
      "  Metadata:\n",
      "    major_brand     : isom\n",
      "    minor_version   : 512\n",
      "    compatible_brands: isomiso2avc1mp41\n",
      "    encoder         : Lavf58.76.100\n",
      "  Duration: 00:00:07.92, start: 0.000000, bitrate: 2839 kb/s\n",
      "  Stream #0:0(jpn): Video: h264 (High 10) (avc1 / 0x31637661), yuv420p10le(tv, bt709), 1920x1080 [SAR 1:1 DAR 16:9], 2513 kb/s, 23.98 fps, 23.98 tbr, 24k tbn, 47.95 tbc (default)\n",
      "    Metadata:\n",
      "      handler_name    : Video\n",
      "      vendor_id       : [0][0][0][0]\n",
      "  Stream #0:1(jpn): Audio: aac (LC) (mp4a / 0x6134706D), 48000 Hz, 5.1, fltp, 342 kb/s (default)\n",
      "    Metadata:\n",
      "      handler_name    : Audio\n",
      "      vendor_id       : [0][0][0][0]\n",
      "Stream mapping:\n",
      "  Stream #0:0 (h264) -> format\n",
      "  Stream #0:0 (h264) -> overlay:main\n",
      "  Stream #0:0 (h264) -> edgedetect\n",
      "  overlay -> Stream #0:0 (libx264)\n",
      "Press [q] to stop, [?] for help\n",
      "[libx264 @ 0x55b5575890c0] using SAR=1/1\n",
      "[libx264 @ 0x55b5575890c0] using cpu capabilities: MMX2 SSE2Fast SSSE3 SSE4.2 AVX FMA3 BMI2 AVX2\n",
      "[libx264 @ 0x55b5575890c0] profile High, level 4.0, 4:2:0, 8-bit\n",
      "[libx264 @ 0x55b5575890c0] 264 - core 163 r3060 5db6aa6 - H.264/MPEG-4 AVC codec - Copyleft 2003-2021 - http://www.videolan.org/x264.html - options: cabac=1 ref=3 deblock=1:0:0 analyse=0x3:0x113 me=hex subme=7 psy=1 psy_rd=1.00:0.00 mixed_ref=1 me_range=16 chroma_me=1 trellis=1 8x8dct=1 cqm=0 deadzone=21,11 fast_pskip=1 chroma_qp_offset=-2 threads=12 lookahead_threads=2 sliced_threads=0 nr=0 decimate=1 interlaced=0 bluray_compat=0 constrained_intra=0 bframes=3 b_pyramid=2 b_adapt=1 b_bias=0 direct=1 weightb=1 open_gop=0 weightp=2 keyint=250 keyint_min=23 scenecut=40 intra_refresh=0 rc_lookahead=40 rc=crf mbtree=1 crf=23.0 qcomp=0.60 qpmin=0 qpmax=69 qpstep=4 ip_ratio=1.40 aq=1:1.00\n",
      "Output #0, mp4, to 'outputs/histogram_python.mp4':\n",
      "  Metadata:\n",
      "    major_brand     : isom\n",
      "    minor_version   : 512\n",
      "    compatible_brands: isomiso2avc1mp41\n",
      "    encoder         : Lavf58.76.100\n",
      "  Stream #0:0: Video: h264 (avc1 / 0x31637661), yuv420p(tv, bt709, progressive), 1920x1080 [SAR 1:1 DAR 16:9], q=2-31, 23.98 fps, 24k tbn (default)\n",
      "    Metadata:\n",
      "      encoder         : Lavc58.134.100 libx264\n",
      "    Side data:\n",
      "      cpb: bitrate max/min/avg: 0/0/0 buffer size: 0 vbv_delay: N/A\n",
      "frame=  188 fps= 16 q=-1.0 Lsize=    2290kB time=00:00:07.71 bitrate=2431.4kbits/s speed=0.637x      \n",
      "video:2287kB audio:0kB subtitle:0kB other streams:0kB global headers:0kB muxing overhead: 0.134372%\n",
      "[libx264 @ 0x55b5575890c0] frame I:3     Avg QP:20.71  size: 54592\n",
      "[libx264 @ 0x55b5575890c0] frame P:53    Avg QP:21.91  size: 23037\n",
      "[libx264 @ 0x55b5575890c0] frame B:132   Avg QP:24.62  size:  7247\n",
      "[libx264 @ 0x55b5575890c0] consecutive B-frames:  4.8%  4.3%  1.6% 89.4%\n",
      "[libx264 @ 0x55b5575890c0] mb I  I16..4: 20.3% 71.5%  8.2%\n",
      "[libx264 @ 0x55b5575890c0] mb P  I16..4:  4.8% 12.0%  0.8%  P16..4: 31.0%  6.3%  3.3%  0.0%  0.0%    skip:41.8%\n",
      "[libx264 @ 0x55b5575890c0] mb B  I16..4:  0.9%  2.2%  0.1%  B16..8: 27.2%  2.3%  0.3%  direct: 1.3%  skip:65.7%  L0:42.3% L1:55.7% BI: 2.0%\n",
      "[libx264 @ 0x55b5575890c0] 8x8 transform intra:68.9% inter:85.4%\n",
      "[libx264 @ 0x55b5575890c0] coded y,uvDC,uvAC intra: 39.3% 47.8% 13.5% inter: 5.9% 8.2% 0.7%\n",
      "[libx264 @ 0x55b5575890c0] i16 v,h,dc,p: 23% 39%  4% 34%\n",
      "[libx264 @ 0x55b5575890c0] i8 v,h,dc,ddl,ddr,vr,hd,vl,hu: 19% 27% 21%  4%  5%  4%  9%  4%  6%\n",
      "[libx264 @ 0x55b5575890c0] i4 v,h,dc,ddl,ddr,vr,hd,vl,hu: 29% 27% 18%  3%  5%  5%  6%  3%  3%\n",
      "[libx264 @ 0x55b5575890c0] i8c dc,h,v,p: 56% 24% 12%  8%\n",
      "[libx264 @ 0x55b5575890c0] Weighted P-Frames: Y:0.0% UV:0.0%\n",
      "[libx264 @ 0x55b5575890c0] ref P L0: 61.1% 10.8% 18.9%  9.3%\n",
      "[libx264 @ 0x55b5575890c0] ref B L0: 81.7% 13.7%  4.7%\n",
      "[libx264 @ 0x55b5575890c0] ref B L1: 95.0%  5.0%\n",
      "[libx264 @ 0x55b5575890c0] kb/s:2388.74\n"
     ]
    },
    {
     "data": {
      "text/plain": [
       "(None, None)"
      ]
     },
     "execution_count": 12,
     "metadata": {},
     "output_type": "execute_result"
    }
   ],
   "source": [
    "import ffmpeg\n",
    "    \n",
    "input_video = ffmpeg.input(\"video2.mp4\")\n",
    "\n",
    "hist = input_video.filter('format', 'gbrp').filter('histogram', display_mode='stack').filter('scale', 'iw*2', 'ih')\n",
    "\n",
    "edges = input_video.filter('edgedetect').filter('scale', 'iw/4', 'ih/4')\n",
    "\n",
    "hist_overlay = input_video.overlay(hist)\n",
    "\n",
    "\n",
    "out_stream = hist_overlay.overlay(edges, x=1000, y=0)\n",
    "print(' '.join(out_stream.output(f'outputs/histogram_python.mp4').compile()))\n",
    "\n",
    "out_stream.output(f'outputs/histogram_python.mp4').overwrite_output().run()"
   ]
  },
  {
   "cell_type": "markdown",
   "metadata": {},
   "source": [
    "# Przycinanie pliku"
   ]
  },
  {
   "cell_type": "code",
   "execution_count": 7,
   "metadata": {},
   "outputs": [
    {
     "name": "stdout",
     "output_type": "stream",
     "text": [
      "Input #0, mov,mp4,m4a,3gp,3g2,mj2, from 'drive.mp4':\n",
      "  Metadata:\n",
      "    major_brand     : isom\n",
      "    minor_version   : 512\n",
      "    compatible_brands: isomiso2avc1mp41\n",
      "    encoder         : Lavf58.76.100\n",
      "  Duration: 00:02:30.08, start: 0.000000, bitrate: 1961 kb/s\n",
      "  Stream #0:0(eng): Video: h264 (High) (avc1 / 0x31637661), yuv420p(tv, bt709), 1920x800 [SAR 1:1 DAR 12:5], 1830 kb/s, 23.98 fps, 23.98 tbr, 24k tbn, 47.95 tbc (default)\n",
      "    Metadata:\n",
      "      handler_name    : VideoHandler\n",
      "      vendor_id       : [0][0][0][0]\n",
      "  Stream #0:1(eng): Audio: aac (LC) (mp4a / 0x6134706D), 48000 Hz, stereo, fltp, 125 kb/s (default)\n",
      "    Metadata:\n",
      "      handler_name    : SoundHandler\n",
      "      vendor_id       : [0][0][0][0]\n",
      "Stream mapping:\n",
      "  Stream #0:0 -> #0:0 (h264 (native) -> h264 (libx264))\n",
      "  Stream #0:1 -> #0:1 (aac (native) -> aac (native))\n",
      "Press [q] to stop, [?] for help\n",
      "\u001B[1;36m[libx264 @ 0x55d2c6842a00] \u001B[0musing SAR=1/1\n",
      "\u001B[1;36m[libx264 @ 0x55d2c6842a00] \u001B[0musing cpu capabilities: MMX2 SSE2Fast SSSE3 SSE4.2 AVX FMA3 BMI2 AVX2\n",
      "\u001B[1;36m[libx264 @ 0x55d2c6842a00] \u001B[0mprofile High, level 4.0, 4:2:0, 8-bit\n",
      "\u001B[1;36m[libx264 @ 0x55d2c6842a00] \u001B[0m264 - core 163 r3060 5db6aa6 - H.264/MPEG-4 AVC codec - Copyleft 2003-2021 - http://www.videolan.org/x264.html - options: cabac=1 ref=3 deblock=1:0:0 analyse=0x3:0x113 me=hex subme=7 psy=1 psy_rd=1.00:0.00 mixed_ref=1 me_range=16 chroma_me=1 trellis=1 8x8dct=1 cqm=0 deadzone=21,11 fast_pskip=1 chroma_qp_offset=-2 threads=12 lookahead_threads=2 sliced_threads=0 nr=0 decimate=1 interlaced=0 bluray_compat=0 constrained_intra=0 bframes=3 b_pyramid=2 b_adapt=1 b_bias=0 direct=1 weightb=1 open_gop=0 weightp=2 keyint=250 keyint_min=23 scenecut=40 intra_refresh=0 rc_lookahead=40 rc=crf mbtree=1 crf=23.0 qcomp=0.60 qpmin=0 qpmax=69 qpstep=4 ip_ratio=1.40 aq=1:1.00\n",
      "Output #0, mp4, to 'drive_trim.mp4':\n",
      "  Metadata:\n",
      "    major_brand     : isom\n",
      "    minor_version   : 512\n",
      "    compatible_brands: isomiso2avc1mp41\n",
      "    encoder         : Lavf58.76.100\n",
      "  Stream #0:0(eng): Video: h264 (avc1 / 0x31637661), yuv420p(tv, bt709, progressive), 1920x800 [SAR 1:1 DAR 12:5], q=2-31, 23.98 fps, 24k tbn (default)\n",
      "    Metadata:\n",
      "      handler_name    : VideoHandler\n",
      "      vendor_id       : [0][0][0][0]\n",
      "      encoder         : Lavc58.134.100 libx264\n",
      "    Side data:\n",
      "      cpb: bitrate max/min/avg: 0/0/0 buffer size: 0 vbv_delay: N/A\n",
      "  Stream #0:1(eng): Audio: aac (LC) (mp4a / 0x6134706D), 48000 Hz, stereo, fltp, 128 kb/s (default)\n",
      "    Metadata:\n",
      "      handler_name    : SoundHandler\n",
      "      vendor_id       : [0][0][0][0]\n",
      "      encoder         : Lavc58.134.100 aac\n",
      "frame=  240 fps= 80 q=-1.0 Lsize=    3394kB time=00:00:09.98 bitrate=2785.0kbits/s dup=1 drop=0 speed=3.35x    \n",
      "video:3229kB audio:157kB subtitle:0kB other streams:0kB global headers:0kB muxing overhead: 0.233651%\n",
      "\u001B[1;36m[libx264 @ 0x55d2c6842a00] \u001B[0mframe I:10    Avg QP:18.34  size: 54198\n",
      "\u001B[1;36m[libx264 @ 0x55d2c6842a00] \u001B[0mframe P:104   Avg QP:22.55  size: 18971\n",
      "\u001B[1;36m[libx264 @ 0x55d2c6842a00] \u001B[0mframe B:126   Avg QP:23.49  size:  6278\n",
      "\u001B[1;36m[libx264 @ 0x55d2c6842a00] \u001B[0mconsecutive B-frames: 22.5% 20.8%  5.0% 51.7%\n",
      "\u001B[1;36m[libx264 @ 0x55d2c6842a00] \u001B[0mmb I  I16..4: 12.7% 78.8%  8.5%\n",
      "\u001B[1;36m[libx264 @ 0x55d2c6842a00] \u001B[0mmb P  I16..4:  9.9% 29.8%  0.8%  P16..4: 26.0%  5.7%  1.7%  0.0%  0.0%    skip:26.0%\n",
      "\u001B[1;36m[libx264 @ 0x55d2c6842a00] \u001B[0mmb B  I16..4:  1.5%  3.6%  0.1%  B16..8: 27.9%  2.6%  0.3%  direct: 1.5%  skip:62.5%  L0:48.6% L1:47.8% BI: 3.6%\n",
      "\u001B[1;36m[libx264 @ 0x55d2c6842a00] \u001B[0m8x8 transform intra:74.1% inter:89.4%\n",
      "\u001B[1;36m[libx264 @ 0x55d2c6842a00] \u001B[0mcoded y,uvDC,uvAC intra: 35.5% 32.2% 5.0% inter: 9.0% 9.2% 0.1%\n",
      "\u001B[1;36m[libx264 @ 0x55d2c6842a00] \u001B[0mi16 v,h,dc,p: 23% 39%  7% 32%\n",
      "\u001B[1;36m[libx264 @ 0x55d2c6842a00] \u001B[0mi8 v,h,dc,ddl,ddr,vr,hd,vl,hu: 29% 30% 16%  3%  5%  4%  7%  3%  4%\n",
      "\u001B[1;36m[libx264 @ 0x55d2c6842a00] \u001B[0mi4 v,h,dc,ddl,ddr,vr,hd,vl,hu: 28% 29%  9%  3%  8%  5% 11%  4%  4%\n",
      "\u001B[1;36m[libx264 @ 0x55d2c6842a00] \u001B[0mi8c dc,h,v,p: 58% 24% 15%  3%\n",
      "\u001B[1;36m[libx264 @ 0x55d2c6842a00] \u001B[0mWeighted P-Frames: Y:11.5% UV:11.5%\n",
      "\u001B[1;36m[libx264 @ 0x55d2c6842a00] \u001B[0mref P L0: 69.2% 14.2% 11.8%  4.7%  0.1%\n",
      "\u001B[1;36m[libx264 @ 0x55d2c6842a00] \u001B[0mref B L0: 90.4%  8.4%  1.2%\n",
      "\u001B[1;36m[libx264 @ 0x55d2c6842a00] \u001B[0mref B L1: 98.2%  1.8%\n",
      "\u001B[1;36m[libx264 @ 0x55d2c6842a00] \u001B[0mkb/s:2642.14\n",
      "\u001B[1;36m[aac @ 0x55d2c6865cc0] \u001B[0mQavg: 173.912\n"
     ]
    }
   ],
   "source": [
    "!ffmpeg -hide_banner -i drive.mp4 -ss 00:00:30 -t 10 outputs/drive_trim.mp4"
   ]
  },
  {
   "cell_type": "markdown",
   "metadata": {},
   "source": [
    "<video controls src=\"assets/outputs/drive_trim.mp4\" width=500px />"
   ]
  },
  {
   "cell_type": "markdown",
   "metadata": {},
   "source": [
    "# FFMpeg + OpenCV + Python"
   ]
  },
  {
   "cell_type": "code",
   "execution_count": 8,
   "metadata": {
    "scrolled": false
   },
   "outputs": [
    {
     "name": "stderr",
     "output_type": "stream",
     "text": [
      "ffmpeg version 4.4.1 Copyright (c) 2000-2021 the FFmpeg developers\n",
      "  built with gcc 11 (GCC)\n",
      "  configuration: --prefix=/usr --bindir=/usr/bin --datadir=/usr/share/ffmpeg --docdir=/usr/share/doc/ffmpeg --incdir=/usr/include/ffmpeg --libdir=/usr/lib64 --mandir=/usr/share/man --arch=x86_64 --optflags='-O2 -flto=auto -ffat-lto-objects -fexceptions -g -grecord-gcc-switches -pipe -Wall -Werror=format-security -Wp,-D_FORTIFY_SOURCE=2 -Wp,-D_GLIBCXX_ASSERTIONS -specs=/usr/lib/rpm/redhat/redhat-hardened-cc1 -fstack-protector-strong -specs=/usr/lib/rpm/redhat/redhat-annobin-cc1 -m64 -mtune=generic -fasynchronous-unwind-tables -fstack-clash-protection -fcf-protection' --extra-ldflags='-Wl,-z,relro -Wl,--as-needed -Wl,-z,now -specs=/usr/lib/rpm/redhat/redhat-hardened-ld -specs=/usr/lib/rpm/redhat/redhat-annobin-cc1 ' --extra-cflags=' -I/usr/include/rav1e' --enable-libopencore-amrnb --enable-libopencore-amrwb --enable-libvo-amrwbenc --enable-version3 --enable-bzlib --enable-chromaprint --disable-crystalhd --enable-fontconfig --enable-frei0r --enable-gcrypt --enable-gnutls --enable-ladspa --enable-libaom --enable-libdav1d --enable-libass --enable-libbluray --enable-libbs2b --enable-libcdio --enable-libdrm --enable-libjack --enable-libfreetype --enable-libfribidi --enable-libgsm --enable-libilbc --enable-libmp3lame --enable-libmysofa --enable-nvenc --enable-openal --enable-opencl --enable-opengl --enable-libopenjpeg --enable-libopenmpt --enable-libopus --enable-libpulse --enable-librsvg --enable-librav1e --enable-librtmp --enable-librubberband --enable-libsmbclient --enable-version3 --enable-libsnappy --enable-libsoxr --enable-libspeex --enable-libsrt --enable-libssh --enable-libsvtav1 --enable-libtesseract --enable-libtheora --enable-libtwolame --enable-libvorbis --enable-libv4l2 --enable-libvidstab --enable-libvmaf --enable-version3 --enable-vapoursynth --enable-libvpx --enable-vulkan --enable-libglslang --enable-libwebp --enable-libx264 --enable-libx265 --enable-libxvid --enable-libxml2 --enable-libzimg --enable-libzmq --enable-libzvbi --enable-lv2 --enable-avfilter --enable-avresample --enable-libmodplug --enable-postproc --enable-pthreads --disable-static --enable-shared --enable-gpl --disable-debug --disable-stripping --shlibdir=/usr/lib64 --enable-lto --enable-libmfx --enable-runtime-cpudetect\n",
      "ffmpeg version 4.4.1 Copyright (c) 2000-2021 the FFmpeg developers\n",
      "  built with gcc 11 (GCC)\n",
      "  libavutil      56. 70.100 / 56. 70.100\n",
      "  libavcodec     58.134.100 / 58.134.100\n",
      "  libavformat    58. 76.100 / 58. 76.100\n",
      "  libavdevice    58. 13.100 / 58. 13.100\n",
      "  libavfilter     7.110.100 /  7.110.100\n",
      "  libavresample   4.  0.  0 /  4.  0.  0\n",
      "  libswscale      5.  9.100 /  5.  9.100\n",
      "  libswresample   3.  9.100 /  3.  9.100\n",
      "  libpostproc    55.  9.100 / 55.  9.100\n",
      "  configuration: --prefix=/usr --bindir=/usr/bin --datadir=/usr/share/ffmpeg --docdir=/usr/share/doc/ffmpeg --incdir=/usr/include/ffmpeg --libdir=/usr/lib64 --mandir=/usr/share/man --arch=x86_64 --optflags='-O2 -flto=auto -ffat-lto-objects -fexceptions -g -grecord-gcc-switches -pipe -Wall -Werror=format-security -Wp,-D_FORTIFY_SOURCE=2 -Wp,-D_GLIBCXX_ASSERTIONS -specs=/usr/lib/rpm/redhat/redhat-hardened-cc1 -fstack-protector-strong -specs=/usr/lib/rpm/redhat/redhat-annobin-cc1 -m64 -mtune=generic -fasynchronous-unwind-tables -fstack-clash-protection -fcf-protection' --extra-ldflags='-Wl,-z,relro -Wl,--as-needed -Wl,-z,now -specs=/usr/lib/rpm/redhat/redhat-hardened-ld -specs=/usr/lib/rpm/redhat/redhat-annobin-cc1 ' --extra-cflags=' -I/usr/include/rav1e' --enable-libopencore-amrnb --enable-libopencore-amrwb --enable-libvo-amrwbenc --enable-version3 --enable-bzlib --enable-chromaprint --disable-crystalhd --enable-fontconfig --enable-frei0r --enable-gcrypt --enable-gnutls --enable-ladspa --enable-libaom --enable-libdav1d --enable-libass --enable-libbluray --enable-libbs2b --enable-libcdio --enable-libdrm --enable-libjack --enable-libfreetype --enable-libfribidi --enable-libgsm --enable-libilbc --enable-libmp3lame --enable-libmysofa --enable-nvenc --enable-openal --enable-opencl --enable-opengl --enable-libopenjpeg --enable-libopenmpt --enable-libopus --enable-libpulse --enable-librsvg --enable-librav1e --enable-librtmp --enable-librubberband --enable-libsmbclient --enable-version3 --enable-libsnappy --enable-libsoxr --enable-libspeex --enable-libsrt --enable-libssh --enable-libsvtav1 --enable-libtesseract --enable-libtheora --enable-libtwolame --enable-libvorbis --enable-libv4l2 --enable-libvidstab --enable-libvmaf --enable-version3 --enable-vapoursynth --enable-libvpx --enable-vulkan --enable-libglslang --enable-libwebp --enable-libx264 --enable-libx265 --enable-libxvid --enable-libxml2 --enable-libzimg --enable-libzmq --enable-libzvbi --enable-lv2 --enable-avfilter --enable-avresample --enable-libmodplug --enable-postproc --enable-pthreads --disable-static --enable-shared --enable-gpl --disable-debug --disable-stripping --shlibdir=/usr/lib64 --enable-lto --enable-libmfx --enable-runtime-cpudetect\n",
      "  libavutil      56. 70.100 / 56. 70.100\n",
      "  libavcodec     58.134.100 / 58.134.100\n",
      "  libavformat    58. 76.100 / 58. 76.100\n",
      "  libavdevice    58. 13.100 / 58. 13.100\n",
      "  libavfilter     7.110.100 /  7.110.100\n",
      "  libavresample   4.  0.  0 /  4.  0.  0\n",
      "  libswscale      5.  9.100 /  5.  9.100\n",
      "  libswresample   3.  9.100 /  3.  9.100\n",
      "  libpostproc    55.  9.100 / 55.  9.100\n",
      "Input #0, mov,mp4,m4a,3gp,3g2,mj2, from 'outputs/drive_trim.mp4':\n",
      "  Metadata:\n",
      "    major_brand     : isom\n",
      "    minor_version   : 512\n",
      "    compatible_brands: isomiso2avc1mp41\n",
      "    encoder         : Lavf58.76.100\n",
      "  Duration: 00:00:10.01, start: 0.000000, bitrate: 2777 kb/s\n",
      "  Stream #0:0(eng): Video: h264 (High) (avc1 / 0x31637661), yuv420p(tv, bt709), 1920x800 [SAR 1:1 DAR 12:5], 2642 kb/s, 23.98 fps, 23.98 tbr, 24k tbn, 47.95 tbc (default)\n",
      "    Metadata:\n",
      "      handler_name    : VideoHandler\n",
      "      vendor_id       : [0][0][0][0]\n",
      "  Stream #0:1(eng): Audio: aac (LC) (mp4a / 0x6134706D), 48000 Hz, stereo, fltp, 128 kb/s (default)\n",
      "    Metadata:\n",
      "      handler_name    : SoundHandler\n",
      "      vendor_id       : [0][0][0][0]\n",
      "Stream mapping:\n",
      "  Stream #0:0 -> #0:0 (h264 (native) -> rawvideo (native))\n",
      "Press [q] to stop, [?] for help\n",
      "Output #0, rawvideo, to 'pipe:':\n",
      "  Metadata:\n",
      "    major_brand     : isom\n",
      "    minor_version   : 512\n",
      "    compatible_brands: isomiso2avc1mp41\n",
      "    encoder         : Lavf58.76.100\n",
      "  Stream #0:0(eng): Video: rawvideo (BGR[24] / 0x18524742), bgr24(pc, gbr/bt709/bt709, progressive), 1920x800 [SAR 1:1 DAR 12:5], q=2-31, 883852 kb/s, 23.98 fps, 23.98 tbn (default)\n",
      "    Metadata:\n",
      "      handler_name    : VideoHandler\n",
      "      vendor_id       : [0][0][0][0]\n",
      "      encoder         : Lavc58.134.100 rawvideo\n",
      "frame=    1 fps=0.0 q=-0.0 size=    4500kB time=00:00:00.04 bitrate=883859.2kbits/s speed=3.82x    \r",
      "Input #0, rawvideo, from 'pipe:':\n",
      "  Duration: N/A, start: 0.000000, bitrate: 307200 kb/s\n",
      "  Stream #0:0: Video: rawvideo (Y800 / 0x30303859), gray, 1920x800, 307200 kb/s, 25 tbr, 25 tbn, 25 tbc\n",
      "Stream mapping:\n",
      "  Stream #0:0 -> #0:0 (rawvideo (native) -> h264 (libx264))\n",
      "[libx264 @ 0x55bb3f5ee680] using cpu capabilities: MMX2 SSE2Fast SSSE3 SSE4.2 AVX FMA3 BMI2 AVX2\n",
      "[libx264 @ 0x55bb3f5ee680] profile High, level 4.0, 4:2:0, 8-bit\n",
      "[libx264 @ 0x55bb3f5ee680] 264 - core 163 r3060 5db6aa6 - H.264/MPEG-4 AVC codec - Copyleft 2003-2021 - http://www.videolan.org/x264.html - options: cabac=1 ref=3 deblock=1:0:0 analyse=0x3:0x113 me=hex subme=7 psy=1 psy_rd=1.00:0.00 mixed_ref=1 me_range=16 chroma_me=1 trellis=1 8x8dct=1 cqm=0 deadzone=21,11 fast_pskip=1 chroma_qp_offset=-2 threads=12 lookahead_threads=2 sliced_threads=0 nr=0 decimate=1 interlaced=0 bluray_compat=0 constrained_intra=0 bframes=3 b_pyramid=2 b_adapt=1 b_bias=0 direct=1 weightb=1 open_gop=0 weightp=2 keyint=250 keyint_min=25 scenecut=40 intra_refresh=0 rc_lookahead=40 rc=crf mbtree=1 crf=23.0 qcomp=0.60 qpmin=0 qpmax=69 qpstep=4 ip_ratio=1.40 aq=1:1.00\n",
      "Output #0, mp4, to 'outputs/drive_numpy.mp4':\n",
      "  Metadata:\n",
      "    encoder         : Lavf58.76.100\n",
      "  Stream #0:0: Video: h264 (avc1 / 0x31637661), yuv420p(tv, progressive), 1920x800, q=2-31, 25 fps, 12800 tbn\n",
      "    Metadata:\n",
      "      encoder         : Lavc58.134.100 libx264\n",
      "    Side data:\n",
      "      cpb: bitrate max/min/avg: 0/0/0 buffer size: 0 vbv_delay: N/A\n"
     ]
    },
    {
     "name": "stderr",
     "output_type": "stream",
     "text": [
      "frame=  240 fps= 72 q=-0.0 Lsize= 1080000kB time=00:00:10.01 bitrate=883852.1kbits/s speed=2.98x    \n",
      "video:1080000kB audio:0kB subtitle:0kB other streams:0kB global headers:0kB muxing overhead: 0.000000%\n",
      "frame=  240 fps= 66 q=-1.0 Lsize=    9230kB time=00:00:09.48 bitrate=7976.1kbits/s speed= 2.6x    \n",
      "video:9226kB audio:0kB subtitle:0kB other streams:0kB global headers:0kB muxing overhead: 0.040983%\n",
      "[libx264 @ 0x55bb3f5ee680] frame I:8     Avg QP:21.53  size: 81562\n",
      "[libx264 @ 0x55bb3f5ee680] frame P:60    Avg QP:27.89  size: 49185\n",
      "[libx264 @ 0x55bb3f5ee680] frame B:172   Avg QP:31.19  size: 33974\n",
      "[libx264 @ 0x55bb3f5ee680] consecutive B-frames:  3.8%  0.8%  3.8% 91.7%\n",
      "[libx264 @ 0x55bb3f5ee680] mb I  I16..4: 21.0% 56.2% 22.8%\n",
      "[libx264 @ 0x55bb3f5ee680] mb P  I16..4:  1.4%  4.2%  9.5%  P16..4:  4.4%  2.8%  2.5%  0.0%  0.0%    skip:75.2%\n",
      "[libx264 @ 0x55bb3f5ee680] mb B  I16..4:  0.4%  0.7%  3.4%  B16..8: 10.1%  4.1%  3.3%  direct: 1.1%  skip:77.0%  L0:52.0% L1:41.3% BI: 6.7%\n",
      "[libx264 @ 0x55bb3f5ee680] 8x8 transform intra:33.2% inter:1.2%\n",
      "[libx264 @ 0x55bb3f5ee680] coded y,uvDC,uvAC intra: 37.7% 0.0% 0.0% inter: 6.0% 0.0% 0.0%\n",
      "[libx264 @ 0x55bb3f5ee680] i16 v,h,dc,p: 59% 31% 10%  0%\n",
      "[libx264 @ 0x55bb3f5ee680] i8 v,h,dc,ddl,ddr,vr,hd,vl,hu: 51%  9% 39%  0%  0%  0%  0%  0%  0%\n",
      "[libx264 @ 0x55bb3f5ee680] i4 v,h,dc,ddl,ddr,vr,hd,vl,hu: 25% 26% 29%  3%  3%  3%  6%  3%  3%\n",
      "[libx264 @ 0x55bb3f5ee680] i8c dc,h,v,p: 100%  0%  0%  0%\n",
      "[libx264 @ 0x55bb3f5ee680] Weighted P-Frames: Y:3.3% UV:0.0%\n",
      "[libx264 @ 0x55bb3f5ee680] ref P L0: 63.2%  6.9% 18.3% 11.1%  0.5%\n",
      "[libx264 @ 0x55bb3f5ee680] ref B L0: 79.3% 16.4%  4.3%\n",
      "[libx264 @ 0x55bb3f5ee680] ref B L1: 91.6%  8.4%\n",
      "[libx264 @ 0x55bb3f5ee680] kb/s:7872.67\n"
     ]
    },
    {
     "data": {
      "text/plain": [
       "0"
      ]
     },
     "execution_count": 8,
     "metadata": {},
     "output_type": "execute_result"
    }
   ],
   "source": [
    "import ffmpeg\n",
    "import numpy as np\n",
    "import cv2\n",
    "\n",
    "width = 1920\n",
    "height = 800\n",
    "\n",
    "process1 = (\n",
    "    ffmpeg\n",
    "    .input(\"outputs/drive_trim.mp4\")\n",
    "    .output('pipe:', format='rawvideo', pix_fmt='bgr24')\n",
    "    .run_async(pipe_stdout=True)\n",
    ")\n",
    "\n",
    "process2 = (\n",
    "    ffmpeg\n",
    "    .input('pipe:', format='rawvideo', pix_fmt='gray8', s='{}x{}'.format(width, height))\n",
    "    .output(\"outputs/drive_numpy.mp4\", pix_fmt='yuv420p')\n",
    "    .overwrite_output()\n",
    "    .run_async(pipe_stdin=True)\n",
    ")\n",
    "\n",
    "while in_bytes := process1.stdout.read(width * height * 3):\n",
    "    in_frame = (\n",
    "        np\n",
    "        .frombuffer(in_bytes, np.uint8)\n",
    "        .reshape([height, width, 3]).astype(np.uint8)\n",
    "    )\n",
    "    out_frame = in_frame.copy()\n",
    "    out_frame = cv2.Canny(out_frame, 50, 150)\n",
    "    process2.stdin.write(\n",
    "        out_frame.astype(np.uint8)\n",
    "        .tobytes()\n",
    "    )\n",
    "\n",
    "process2.stdin.close()\n",
    "process1.wait()\n",
    "process2.wait()\n"
   ]
  },
  {
   "cell_type": "markdown",
   "metadata": {},
   "source": [
    "<video controls src=\"assets/outputs/drive_numpy.mp4\" width=500px />"
   ]
  },
  {
   "cell_type": "markdown",
   "metadata": {},
   "source": [
    "# Śledzenie postępu"
   ]
  },
  {
   "cell_type": "code",
   "execution_count": 9,
   "metadata": {},
   "outputs": [
    {
     "name": "stdout",
     "output_type": "stream",
     "text": [
      "Całkowity czas trwania pliku: 10.01\n",
      "Przetworzono 0 sekund\n",
      "Przetworzono 2 sekund\n",
      "Przetworzono 3 sekund\n",
      "Przetworzono 4 sekund\n",
      "Przetworzono 5 sekund\n",
      "Przetworzono 7 sekund\n",
      "Przetworzono 8 sekund\n",
      "Przetworzono 9 sekund\n",
      "Przetworzono 10 sekund\n",
      "Przetworzono 10 sekund\n"
     ]
    }
   ],
   "source": [
    "import socket\n",
    "from threading import Thread\n",
    "from contextlib import contextmanager\n",
    "import tempfile\n",
    "from pathlib import Path\n",
    "\n",
    "\n",
    "@contextmanager\n",
    "def open_progress_socket():\n",
    "    with tempfile.TemporaryDirectory() as tempdir:\n",
    "        sock = socket.socket(socket.AF_UNIX, socket.SOCK_STREAM)\n",
    "        socket_filename = Path(tempdir) / \"progress.sock\"\n",
    "        sock.bind(str(socket_filename))\n",
    "        sock.settimeout(15)\n",
    "        try:\n",
    "            sock.listen(1)\n",
    "            yield sock, socket_filename\n",
    "        finally:\n",
    "            sock.close()\n",
    "            \n",
    "\n",
    "def watch_progress(sock: socket.socket):\n",
    "        conn, _ = sock.accept()\n",
    "        while rec := conn.recv(4096):\n",
    "            out_time_us = dict(\n",
    "                map(\n",
    "                    lambda x: x.split(\"=\"),\n",
    "                    rec.decode(\"utf-8\").split(\"\\n\")[:-1],\n",
    "                ))[\"out_time_us\"]\n",
    "            downloaded_seconds = round(int(out_time_us) / 1000000)\n",
    "            print(f\"Przetworzono {downloaded_seconds} sekund\")\n",
    "            \n",
    "with open_progress_socket() as (sock, socket_filename):\n",
    "    total_duration = float(ffmpeg.probe(\"outputs/drive_trim.mp4\")[\"streams\"][0][\"duration\"])\n",
    "    print(f\"Całkowity czas trwania pliku: {total_duration}\")\n",
    "    t = Thread(target=watch_progress, args=(sock,))\n",
    "    t.start()\n",
    "    (\n",
    "        ffmpeg\n",
    "        .input(\"outputs/drive_trim.mp4\")\n",
    "        .output(\"outputs/drive_h265.mp4\", vcodec=\"hevc\")\n",
    "        \n",
    "        .overwrite_output()\n",
    "        .global_args(\n",
    "            \"-progress\",\n",
    "            f\"unix://{socket_filename}\"\n",
    "        )\n",
    "    ).run(quiet=True)\n",
    "    t.join()"
   ]
  }
 ],
 "metadata": {
  "kernelspec": {
   "display_name": "Python 3",
   "language": "python",
   "name": "python3"
  },
  "language_info": {
   "codemirror_mode": {
    "name": "ipython",
    "version": 3
   },
   "file_extension": ".py",
   "mimetype": "text/x-python",
   "name": "python",
   "nbconvert_exporter": "python",
   "pygments_lexer": "ipython3",
   "version": "3.9.12"
  }
 },
 "nbformat": 4,
 "nbformat_minor": 1
}